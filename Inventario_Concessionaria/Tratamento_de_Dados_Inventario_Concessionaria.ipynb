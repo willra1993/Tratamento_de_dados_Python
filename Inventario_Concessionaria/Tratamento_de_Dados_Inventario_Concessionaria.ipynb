{
 "cells": [
  {
   "cell_type": "markdown",
   "metadata": {},
   "source": [
    "# Tratamento de Dados - Inventário de Concessionária\n",
    "\n",
    "O objetivo deste Script é demonstrar como importar e tratar uma base de dados, de forma a deixá-la adequeda para criação de modelos preditivos em Machine Learning"
   ]
  },
  {
   "cell_type": "markdown",
   "metadata": {},
   "source": [
    "## 1 - Importação de Bibliotecas Necessárias"
   ]
  },
  {
   "cell_type": "code",
   "execution_count": 15,
   "metadata": {},
   "outputs": [],
   "source": [
    "import pandas as pd\n",
    "import matplotlib.pyplot as plt\n",
    "import seaborn as sns\n",
    "import numpy as np\n",
    "import warnings\n",
    "warnings.filterwarnings(\"ignore\")\n",
    "import locale"
   ]
  },
  {
   "cell_type": "markdown",
   "metadata": {},
   "source": [
    "## 2- Importação da Base de Dados no Pandas"
   ]
  },
  {
   "cell_type": "code",
   "execution_count": 16,
   "metadata": {},
   "outputs": [],
   "source": [
    "pd.set_option('display.max_columns', None)\n",
    "pd.set_option('display.max_rows', None)\n",
    "df_dados = pd.read_excel(\"Database.xlsx\")"
   ]
  },
  {
   "cell_type": "markdown",
   "metadata": {},
   "source": [
    "## 3- Análises de características iniciais do DataFrame"
   ]
  },
  {
   "cell_type": "code",
   "execution_count": 17,
   "metadata": {},
   "outputs": [
    {
     "data": {
      "text/plain": [
       "(986, 10)"
      ]
     },
     "execution_count": 17,
     "metadata": {},
     "output_type": "execute_result"
    }
   ],
   "source": [
    "# Verificar quantidade de linhas e colunas presentes\n",
    "df_dados.shape"
   ]
  },
  {
   "cell_type": "code",
   "execution_count": 18,
   "metadata": {},
   "outputs": [
    {
     "data": {
      "text/html": [
       "<div>\n",
       "<style scoped>\n",
       "    .dataframe tbody tr th:only-of-type {\n",
       "        vertical-align: middle;\n",
       "    }\n",
       "\n",
       "    .dataframe tbody tr th {\n",
       "        vertical-align: top;\n",
       "    }\n",
       "\n",
       "    .dataframe thead th {\n",
       "        text-align: right;\n",
       "    }\n",
       "</style>\n",
       "<table border=\"1\" class=\"dataframe\">\n",
       "  <thead>\n",
       "    <tr style=\"text-align: right;\">\n",
       "      <th></th>\n",
       "      <th>DATA_VENDA</th>\n",
       "      <th>MODELO</th>\n",
       "      <th>KM-LITRO</th>\n",
       "      <th>CILINDROS</th>\n",
       "      <th>PESO(KG)</th>\n",
       "      <th>VELOCIDADE_MAXIMA(KM/H)</th>\n",
       "      <th>CAVALOS</th>\n",
       "      <th>TRANSMISSAO</th>\n",
       "      <th>VALOR</th>\n",
       "      <th>CATEGORIA</th>\n",
       "    </tr>\n",
       "  </thead>\n",
       "  <tbody>\n",
       "    <tr>\n",
       "      <th>0</th>\n",
       "      <td>10/1/2020</td>\n",
       "      <td>LABORGUINI</td>\n",
       "      <td>3.0</td>\n",
       "      <td>12</td>\n",
       "      <td>1200</td>\n",
       "      <td>360</td>\n",
       "      <td>700</td>\n",
       "      <td>AUTOMATICO</td>\n",
       "      <td>50000000</td>\n",
       "      <td>IMPORTADO</td>\n",
       "    </tr>\n",
       "    <tr>\n",
       "      <th>1</th>\n",
       "      <td>10/1/2020</td>\n",
       "      <td>LABORGUINI</td>\n",
       "      <td>3.0</td>\n",
       "      <td>12</td>\n",
       "      <td>1200</td>\n",
       "      <td>360</td>\n",
       "      <td>700</td>\n",
       "      <td>AUTOMATICO</td>\n",
       "      <td>50000000</td>\n",
       "      <td>IMPORTADO</td>\n",
       "    </tr>\n",
       "    <tr>\n",
       "      <th>2</th>\n",
       "      <td>10/1/2020</td>\n",
       "      <td>LABORGUINI</td>\n",
       "      <td>3.0</td>\n",
       "      <td>12</td>\n",
       "      <td>1200</td>\n",
       "      <td>360</td>\n",
       "      <td>700</td>\n",
       "      <td>AUTOMATICO</td>\n",
       "      <td>900000</td>\n",
       "      <td>IMPORTADO</td>\n",
       "    </tr>\n",
       "    <tr>\n",
       "      <th>3</th>\n",
       "      <td>10/1/2020</td>\n",
       "      <td>FERRARI</td>\n",
       "      <td>3.0</td>\n",
       "      <td>12</td>\n",
       "      <td>1400</td>\n",
       "      <td>360</td>\n",
       "      <td>640</td>\n",
       "      <td>AUTOMATICO</td>\n",
       "      <td>900000</td>\n",
       "      <td>IMPORTADO</td>\n",
       "    </tr>\n",
       "    <tr>\n",
       "      <th>4</th>\n",
       "      <td>10/1/2020</td>\n",
       "      <td>ASTON MARTIN</td>\n",
       "      <td>3.5</td>\n",
       "      <td>10</td>\n",
       "      <td>1600</td>\n",
       "      <td>360</td>\n",
       "      <td>620</td>\n",
       "      <td>AUTOMATICO</td>\n",
       "      <td>900000</td>\n",
       "      <td>IMPORTADO</td>\n",
       "    </tr>\n",
       "  </tbody>\n",
       "</table>\n",
       "</div>"
      ],
      "text/plain": [
       "  DATA_VENDA        MODELO  KM-LITRO  CILINDROS  PESO(KG)  \\\n",
       "0  10/1/2020    LABORGUINI       3.0         12      1200   \n",
       "1  10/1/2020    LABORGUINI       3.0         12      1200   \n",
       "2  10/1/2020    LABORGUINI       3.0         12      1200   \n",
       "3  10/1/2020       FERRARI       3.0         12      1400   \n",
       "4  10/1/2020  ASTON MARTIN       3.5         10      1600   \n",
       "\n",
       "   VELOCIDADE_MAXIMA(KM/H)  CAVALOS TRANSMISSAO     VALOR  CATEGORIA  \n",
       "0                      360      700  AUTOMATICO  50000000  IMPORTADO  \n",
       "1                      360      700  AUTOMATICO  50000000  IMPORTADO  \n",
       "2                      360      700  AUTOMATICO    900000  IMPORTADO  \n",
       "3                      360      640  AUTOMATICO    900000  IMPORTADO  \n",
       "4                      360      620  AUTOMATICO    900000  IMPORTADO  "
      ]
     },
     "execution_count": 18,
     "metadata": {},
     "output_type": "execute_result"
    }
   ],
   "source": [
    "# Retornar as primeiras 5 linhas do dataframe para termos noção da disposição dos dados\n",
    "df_dados.head()"
   ]
  },
  {
   "cell_type": "code",
   "execution_count": 19,
   "metadata": {},
   "outputs": [
    {
     "data": {
      "text/html": [
       "<div>\n",
       "<style scoped>\n",
       "    .dataframe tbody tr th:only-of-type {\n",
       "        vertical-align: middle;\n",
       "    }\n",
       "\n",
       "    .dataframe tbody tr th {\n",
       "        vertical-align: top;\n",
       "    }\n",
       "\n",
       "    .dataframe thead th {\n",
       "        text-align: right;\n",
       "    }\n",
       "</style>\n",
       "<table border=\"1\" class=\"dataframe\">\n",
       "  <thead>\n",
       "    <tr style=\"text-align: right;\">\n",
       "      <th></th>\n",
       "      <th>DATA_VENDA</th>\n",
       "      <th>MODELO</th>\n",
       "      <th>KM-LITRO</th>\n",
       "      <th>CILINDROS</th>\n",
       "      <th>PESO(KG)</th>\n",
       "      <th>VELOCIDADE_MAXIMA(KM/H)</th>\n",
       "      <th>CAVALOS</th>\n",
       "      <th>TRANSMISSAO</th>\n",
       "      <th>VALOR</th>\n",
       "      <th>CATEGORIA</th>\n",
       "    </tr>\n",
       "  </thead>\n",
       "  <tbody>\n",
       "    <tr>\n",
       "      <th>981</th>\n",
       "      <td>10/12/2021</td>\n",
       "      <td>HONDA FIT</td>\n",
       "      <td>12.0</td>\n",
       "      <td>4</td>\n",
       "      <td>1700</td>\n",
       "      <td>200</td>\n",
       "      <td>116</td>\n",
       "      <td>AUTOMATICO</td>\n",
       "      <td>120000</td>\n",
       "      <td>NACIONAL</td>\n",
       "    </tr>\n",
       "    <tr>\n",
       "      <th>982</th>\n",
       "      <td>10/12/2021</td>\n",
       "      <td>PALIO</td>\n",
       "      <td>11.0</td>\n",
       "      <td>4</td>\n",
       "      <td>1700</td>\n",
       "      <td>200</td>\n",
       "      <td>118</td>\n",
       "      <td>MANUAL</td>\n",
       "      <td>60000</td>\n",
       "      <td>NACIONAL</td>\n",
       "    </tr>\n",
       "    <tr>\n",
       "      <th>983</th>\n",
       "      <td>10/12/2021</td>\n",
       "      <td>UNO</td>\n",
       "      <td>13.5</td>\n",
       "      <td>4</td>\n",
       "      <td>1700</td>\n",
       "      <td>200</td>\n",
       "      <td>118</td>\n",
       "      <td>MANUAL</td>\n",
       "      <td>48000</td>\n",
       "      <td>NACIONAL</td>\n",
       "    </tr>\n",
       "    <tr>\n",
       "      <th>984</th>\n",
       "      <td>10/12/2021</td>\n",
       "      <td>MOBI</td>\n",
       "      <td>14.0</td>\n",
       "      <td>4</td>\n",
       "      <td>1700</td>\n",
       "      <td>200</td>\n",
       "      <td>118</td>\n",
       "      <td>MANUAL</td>\n",
       "      <td>42000</td>\n",
       "      <td>NACIONAL</td>\n",
       "    </tr>\n",
       "    <tr>\n",
       "      <th>985</th>\n",
       "      <td>10/12/2021</td>\n",
       "      <td>PASSAT</td>\n",
       "      <td>8.0</td>\n",
       "      <td>6</td>\n",
       "      <td>1800</td>\n",
       "      <td>200</td>\n",
       "      <td>118</td>\n",
       "      <td>MANUAL</td>\n",
       "      <td>200000</td>\n",
       "      <td>IMPORTADO</td>\n",
       "    </tr>\n",
       "  </tbody>\n",
       "</table>\n",
       "</div>"
      ],
      "text/plain": [
       "     DATA_VENDA     MODELO  KM-LITRO  CILINDROS  PESO(KG)  \\\n",
       "981  10/12/2021  HONDA FIT      12.0          4      1700   \n",
       "982  10/12/2021      PALIO      11.0          4      1700   \n",
       "983  10/12/2021        UNO      13.5          4      1700   \n",
       "984  10/12/2021       MOBI      14.0          4      1700   \n",
       "985  10/12/2021     PASSAT       8.0          6      1800   \n",
       "\n",
       "     VELOCIDADE_MAXIMA(KM/H)  CAVALOS TRANSMISSAO   VALOR  CATEGORIA  \n",
       "981                      200      116  AUTOMATICO  120000   NACIONAL  \n",
       "982                      200      118      MANUAL   60000   NACIONAL  \n",
       "983                      200      118      MANUAL   48000   NACIONAL  \n",
       "984                      200      118      MANUAL   42000   NACIONAL  \n",
       "985                      200      118      MANUAL  200000  IMPORTADO  "
      ]
     },
     "execution_count": 19,
     "metadata": {},
     "output_type": "execute_result"
    }
   ],
   "source": [
    "# Retornar últimas 5 linhas do dataframe, para verificar se há informações desnecessárias no dataframe, como linha de totais ou linhas em branco\n",
    "df_dados.tail()"
   ]
  },
  {
   "cell_type": "code",
   "execution_count": 20,
   "metadata": {},
   "outputs": [
    {
     "name": "stdout",
     "output_type": "stream",
     "text": [
      "<class 'pandas.core.frame.DataFrame'>\n",
      "RangeIndex: 986 entries, 0 to 985\n",
      "Data columns (total 10 columns):\n",
      " #   Column                   Non-Null Count  Dtype  \n",
      "---  ------                   --------------  -----  \n",
      " 0   DATA_VENDA               986 non-null    object \n",
      " 1   MODELO                   986 non-null    object \n",
      " 2   KM-LITRO                 984 non-null    float64\n",
      " 3   CILINDROS                986 non-null    int64  \n",
      " 4   PESO(KG)                 986 non-null    int64  \n",
      " 5   VELOCIDADE_MAXIMA(KM/H)  986 non-null    int64  \n",
      " 6   CAVALOS                  986 non-null    int64  \n",
      " 7   TRANSMISSAO              986 non-null    object \n",
      " 8   VALOR                    986 non-null    object \n",
      " 9   CATEGORIA                986 non-null    object \n",
      "dtypes: float64(1), int64(4), object(5)\n",
      "memory usage: 77.2+ KB\n"
     ]
    }
   ],
   "source": [
    "# Verificar informações sobre os dados(Tipo de variáveis, Variáveis, Quantidade de registros, etc)\n",
    "df_dados.info()"
   ]
  },
  {
   "cell_type": "code",
   "execution_count": 21,
   "metadata": {},
   "outputs": [
    {
     "data": {
      "text/plain": [
       "DATA_VENDA                 0\n",
       "MODELO                     0\n",
       "KM-LITRO                   2\n",
       "CILINDROS                  0\n",
       "PESO(KG)                   0\n",
       "VELOCIDADE_MAXIMA(KM/H)    0\n",
       "CAVALOS                    0\n",
       "TRANSMISSAO                0\n",
       "VALOR                      0\n",
       "CATEGORIA                  0\n",
       "dtype: int64"
      ]
     },
     "execution_count": 21,
     "metadata": {},
     "output_type": "execute_result"
    }
   ],
   "source": [
    "# Avaliar se alguma coluna possui valor nulo ou chamado de valores missing ou NAN (Not Available)\n",
    "df_dados.isnull().sum()"
   ]
  },
  {
   "cell_type": "markdown",
   "metadata": {},
   "source": [
    "## 4- Tratamento de Dados"
   ]
  },
  {
   "cell_type": "code",
   "execution_count": 22,
   "metadata": {},
   "outputs": [],
   "source": [
    "# Tratar itens nulos da coluna \"KM-LITRO\", substituindo-os pela mediana da coluna\n",
    "df_dados['KM-LITRO'] = df_dados['KM-LITRO'].fillna((df_dados['KM-LITRO'].median()))"
   ]
  },
  {
   "cell_type": "code",
   "execution_count": 23,
   "metadata": {},
   "outputs": [
    {
     "data": {
      "text/plain": [
       "DATA_VENDA                 0\n",
       "MODELO                     0\n",
       "KM-LITRO                   0\n",
       "CILINDROS                  0\n",
       "PESO(KG)                   0\n",
       "VELOCIDADE_MAXIMA(KM/H)    0\n",
       "CAVALOS                    0\n",
       "TRANSMISSAO                0\n",
       "VALOR                      0\n",
       "CATEGORIA                  0\n",
       "dtype: int64"
      ]
     },
     "execution_count": 23,
     "metadata": {},
     "output_type": "execute_result"
    }
   ],
   "source": [
    "# Conferência da correção de dados nulos\n",
    "df_dados.isnull().sum()"
   ]
  },
  {
   "cell_type": "code",
   "execution_count": 24,
   "metadata": {},
   "outputs": [
    {
     "data": {
      "text/plain": [
       "VALOR\n",
       "18000         48\n",
       "28000         42\n",
       "30000         24\n",
       "35000         42\n",
       "40000         30\n",
       "42000         66\n",
       "48000         66\n",
       "60000         66\n",
       "85000         36\n",
       "110000        24\n",
       "120000        66\n",
       "150000        36\n",
       "200000        65\n",
       "220000        36\n",
       "280000        66\n",
       "400000        36\n",
       "800000        66\n",
       "900000       168\n",
       "50000000       2\n",
       "SEM VALOR      1\n",
       "dtype: int64"
      ]
     },
     "execution_count": 24,
     "metadata": {},
     "output_type": "execute_result"
    }
   ],
   "source": [
    "# Agrupamento da coluna \"VALOR\" para identificar possíveis discrepâncias\n",
    "df_dados.groupby(['VALOR']).size()"
   ]
  },
  {
   "cell_type": "code",
   "execution_count": 25,
   "metadata": {},
   "outputs": [
    {
     "name": "stdout",
     "output_type": "stream",
     "text": [
      "   DATA_VENDA  MODELO  KM-LITRO  CILINDROS  PESO(KG)  VELOCIDADE_MAXIMA(KM/H)  \\\n",
      "45  10/3/2020  PASSAT       8.0          6      1800                      200   \n",
      "\n",
      "    CAVALOS TRANSMISSAO      VALOR  CATEGORIA  \n",
      "45      118      MANUAL  SEM VALOR  IMPORTADO  \n"
     ]
    }
   ],
   "source": [
    "# Retornar registro cujo campo \"VALOR\" esteja preenchido como \"SEM VALOR\"\n",
    "verificar_valor = df_dados[df_dados['VALOR'] == 'SEM VALOR']\n",
    "print (verificar_valor)"
   ]
  },
  {
   "cell_type": "code",
   "execution_count": 26,
   "metadata": {},
   "outputs": [],
   "source": [
    "# agora que sabemos que trata-se de um carro modelo \"PASSAT\", substituiremos o termo \"SEM VALOR\" pela mediada do modelo \"PASSAT\"\n",
    "df_dados.loc[df_dados['VALOR'] == 'SEM VALOR', 'VALOR'] = 0\n",
    "df_dados['VALOR'] = df_dados['VALOR'].astype(np.float64)\n",
    "mediana_passat = df_dados.loc[df_dados['MODELO'] == 'PASSAT', 'VALOR'].median()\n",
    "df_dados.loc[(df_dados['VALOR'] == 0) & (df_dados['MODELO'] == 'PASSAT'), 'VALOR'] = mediana_passat"
   ]
  },
  {
   "cell_type": "code",
   "execution_count": 27,
   "metadata": {},
   "outputs": [
    {
     "data": {
      "text/plain": [
       "VALOR\n",
       "18000.0        48\n",
       "28000.0        42\n",
       "30000.0        24\n",
       "35000.0        42\n",
       "40000.0        30\n",
       "42000.0        66\n",
       "48000.0        66\n",
       "60000.0        66\n",
       "85000.0        36\n",
       "110000.0       24\n",
       "120000.0       66\n",
       "150000.0       36\n",
       "200000.0       66\n",
       "220000.0       36\n",
       "280000.0       66\n",
       "400000.0       36\n",
       "800000.0       66\n",
       "900000.0      168\n",
       "50000000.0      2\n",
       "dtype: int64"
      ]
     },
     "execution_count": 27,
     "metadata": {},
     "output_type": "execute_result"
    }
   ],
   "source": [
    "# Conferência do agrupamento de valores, para vermos se o termo \"SEM VALOR\" foi substituído\n",
    "df_dados.groupby(['VALOR']).size()"
   ]
  },
  {
   "cell_type": "code",
   "execution_count": 28,
   "metadata": {},
   "outputs": [
    {
     "name": "stdout",
     "output_type": "stream",
     "text": [
      "<class 'pandas.core.frame.DataFrame'>\n",
      "RangeIndex: 986 entries, 0 to 985\n",
      "Data columns (total 10 columns):\n",
      " #   Column                   Non-Null Count  Dtype  \n",
      "---  ------                   --------------  -----  \n",
      " 0   DATA_VENDA               986 non-null    object \n",
      " 1   MODELO                   986 non-null    object \n",
      " 2   KM-LITRO                 986 non-null    float64\n",
      " 3   CILINDROS                986 non-null    int64  \n",
      " 4   PESO(KG)                 986 non-null    int64  \n",
      " 5   VELOCIDADE_MAXIMA(KM/H)  986 non-null    int64  \n",
      " 6   CAVALOS                  986 non-null    int64  \n",
      " 7   TRANSMISSAO              986 non-null    object \n",
      " 8   VALOR                    986 non-null    float64\n",
      " 9   CATEGORIA                986 non-null    object \n",
      "dtypes: float64(2), int64(4), object(4)\n",
      "memory usage: 77.2+ KB\n"
     ]
    }
   ],
   "source": [
    "# Nova verificação dos tipos de variáveis\n",
    "df_dados.info()"
   ]
  },
  {
   "cell_type": "markdown",
   "metadata": {},
   "source": [
    "### 4.1- Avaliação de Outliers de colunas numéricas"
   ]
  },
  {
   "cell_type": "code",
   "execution_count": 31,
   "metadata": {},
   "outputs": [
    {
     "name": "stdout",
     "output_type": "stream",
     "text": [
      "KM-LITRO : float64\n",
      "CILINDROS : int64\n",
      "PESO(KG) : int64\n",
      "VELOCIDADE_MAXIMA(KM/H) : int64\n",
      "CAVALOS : int64\n",
      "VALOR : float64\n"
     ]
    }
   ],
   "source": [
    "# Carregamento da lista as variaveis que são do tipo INT64 E FLOAT64\n",
    "variaveis_numericas = []\n",
    "for i in df_dados.columns[0:48].tolist():\n",
    "        if df_dados.dtypes[i] == 'int64' or df_dados.dtypes[i] == 'float64':            \n",
    "            print(i, ':' , df_dados.dtypes[i]) \n",
    "            variaveis_numericas.append(i)"
   ]
  },
  {
   "cell_type": "code",
   "execution_count": 32,
   "metadata": {},
   "outputs": [
    {
     "data": {
      "image/png": "[encoded data removed]",
      "text/plain": [
       "<Figure size 1200x1400 with 6 Axes>"
      ]
     },
     "metadata": {},
     "output_type": "display_data"
    }
   ],
   "source": [
    "# Geração de gráficos do tipo Boxplot para avaliação das variáveis numéricas\n",
    "plt.rcParams[\"figure.figsize\"] = [12.00, 14.00]\n",
    "plt.rcParams[\"figure.autolayout\"] = True\n",
    "f, axes = plt.subplots(3, 2) #3 linhas e 2 colunas\n",
    "\n",
    "linha = 0\n",
    "coluna = 0\n",
    "\n",
    "for i in variaveis_numericas:\n",
    "    sns.boxplot(data = df_dados, y=i, ax=axes[linha][coluna])\n",
    "    coluna += 1\n",
    "    if coluna == 2:\n",
    "        linha += 1\n",
    "        coluna = 0            \n",
    "\n",
    "plt.show()"
   ]
  },
  {
   "cell_type": "code",
   "execution_count": 33,
   "metadata": {},
   "outputs": [
    {
     "data": {
      "text/html": [
       "<div>\n",
       "<style scoped>\n",
       "    .dataframe tbody tr th:only-of-type {\n",
       "        vertical-align: middle;\n",
       "    }\n",
       "\n",
       "    .dataframe tbody tr th {\n",
       "        vertical-align: top;\n",
       "    }\n",
       "\n",
       "    .dataframe thead th {\n",
       "        text-align: right;\n",
       "    }\n",
       "</style>\n",
       "<table border=\"1\" class=\"dataframe\">\n",
       "  <thead>\n",
       "    <tr style=\"text-align: right;\">\n",
       "      <th></th>\n",
       "      <th>DATA_VENDA</th>\n",
       "      <th>MODELO</th>\n",
       "      <th>KM-LITRO</th>\n",
       "      <th>CILINDROS</th>\n",
       "      <th>PESO(KG)</th>\n",
       "      <th>VELOCIDADE_MAXIMA(KM/H)</th>\n",
       "      <th>CAVALOS</th>\n",
       "      <th>TRANSMISSAO</th>\n",
       "      <th>VALOR</th>\n",
       "      <th>CATEGORIA</th>\n",
       "    </tr>\n",
       "  </thead>\n",
       "  <tbody>\n",
       "    <tr>\n",
       "      <th>11</th>\n",
       "      <td>10/1/2020</td>\n",
       "      <td>CORSA</td>\n",
       "      <td>9.0</td>\n",
       "      <td>4</td>\n",
       "      <td>1900</td>\n",
       "      <td>200</td>\n",
       "      <td>1800</td>\n",
       "      <td>MANUAL</td>\n",
       "      <td>35000.0</td>\n",
       "      <td>NACIONAL</td>\n",
       "    </tr>\n",
       "  </tbody>\n",
       "</table>\n",
       "</div>"
      ],
      "text/plain": [
       "   DATA_VENDA MODELO  KM-LITRO  CILINDROS  PESO(KG)  VELOCIDADE_MAXIMA(KM/H)  \\\n",
       "11  10/1/2020  CORSA       9.0          4      1900                      200   \n",
       "\n",
       "    CAVALOS TRANSMISSAO    VALOR CATEGORIA  \n",
       "11     1800      MANUAL  35000.0  NACIONAL  "
      ]
     },
     "execution_count": 33,
     "metadata": {},
     "output_type": "execute_result"
    }
   ],
   "source": [
    "# Observe nos DOIS ULTIMOS boxplot que há os pontinhos acima das linhas. Esses valores são outliers\n",
    "# Agora já sabemos que temos OUTLIERS nas variáveis CAVALOS e VALOR. Vamos olhar quais são esses outliers para avaliar\n",
    "# como iremos trata-los.\n",
    "\n",
    "# Como no boxplot acima mostra que o maior número de cavalos está em torno de 700, então iremos listar os casos acima de 700\n",
    "# Observe que após listarmos só temos um registro com OUTLIER.\n",
    "\n",
    "df_dados.loc[df_dados['CAVALOS'] > 700]"
   ]
  },
  {
   "cell_type": "code",
   "execution_count": 34,
   "metadata": {},
   "outputs": [],
   "source": [
    "# Como o caso acima possivelmente se trata de erro de digitação, e que pode influenciar futuras análises, vamos excluir o registro\n",
    "df_dados.drop(df_dados.loc[df_dados['CAVALOS'] == 1800].index, inplace=True)"
   ]
  },
  {
   "cell_type": "code",
   "execution_count": 35,
   "metadata": {},
   "outputs": [],
   "source": [
    "# Agora para a variavel VALOR vamos listar os valores maiores que 900.000\n",
    "# Observe que temos dois registros considerados outlier, ou seja, o valor está muito acima do normal.\n",
    "\n",
    "# Neste caso vamos substituir os valores pelo valor médio do modelo LAMBORGUINI.\n",
    "\n",
    "df_dados.loc[df_dados['VALOR'] > 900000]\n",
    "\n",
    "mediana_lamborguini = df_dados.loc[df_dados['MODELO'] == 'LABORGUINI', 'VALOR'].median()\n",
    "df_dados.loc[(df_dados['VALOR'] > 900000) & (df_dados['MODELO'] == 'LABORGUINI'), 'VALOR'] = mediana_lamborguini"
   ]
  },
  {
   "cell_type": "code",
   "execution_count": 36,
   "metadata": {},
   "outputs": [
    {
     "data": {
      "image/png": "[encoded data removed]",
      "text/plain": [
       "<Figure size 1200x1400 with 6 Axes>"
      ]
     },
     "metadata": {},
     "output_type": "display_data"
    }
   ],
   "source": [
    "# Vamos avaliar novamente os boxplot e verificar se ficou algum OUTLIER\n",
    "# Observe que na coluna cavalos de potencia ainda possuem alguns OUTLIERS porém nesse caso, olhando para o modelos dos carros\n",
    "# podemos observar que realmente é a potencia deles. Nesse caso podemos mante-los.\n",
    "\n",
    "# Aqui definimos o tamanho da tela para exibição dos gráficos\n",
    "plt.rcParams[\"figure.figsize\"] = [12.00, 14.00]\n",
    "plt.rcParams[\"figure.autolayout\"] = True\n",
    "\n",
    "# Aqui definimos em quantas linhas e colunas queremos exibir os gráficos\n",
    "f, axes = plt.subplots(3, 2) #3 linhas e 2 colunas\n",
    "\n",
    "linha = 0\n",
    "coluna = 0\n",
    "\n",
    "for i in variaveis_numericas:\n",
    "    sns.boxplot(data = df_dados, y=i, ax=axes[linha][coluna])\n",
    "    coluna += 1\n",
    "    if coluna == 2:\n",
    "        linha += 1\n",
    "        coluna = 0            \n",
    "\n",
    "plt.show()"
   ]
  },
  {
   "cell_type": "markdown",
   "metadata": {},
   "source": [
    "## 5- Padronização de Dados"
   ]
  },
  {
   "cell_type": "code",
   "execution_count": 40,
   "metadata": {},
   "outputs": [
    {
     "data": {
      "image/png": "[encoded data removed]",
      "text/plain": [
       "<Figure size 800x800 with 1 Axes>"
      ]
     },
     "metadata": {},
     "output_type": "display_data"
    }
   ],
   "source": [
    "# Para a coluna \"DATA_VENDA\", serão adicionadas novas colunas, retornando ano, mês, dia do mês e dia da semana, para facilitar análises de vendas por sazonalidade\n",
    "\n",
    "locale.setlocale(locale.LC_ALL, 'pt_BR.utf8')\n",
    "\n",
    "df_dados['DATA_VENDA'] =  pd.to_datetime(df_dados['DATA_VENDA'], format='%d/%m/%Y')\n",
    "df_dados['DATA_VENDA'] = df_dados['DATA_VENDA'].dt.date\n",
    "df_dados['ANO_VENDA'] = pd.DatetimeIndex(df_dados['DATA_VENDA']).year\n",
    "df_dados['MES_VENDA'] = pd.DatetimeIndex(df_dados['DATA_VENDA']).month\n",
    "df_dados['DIA_VENDA'] = pd.DatetimeIndex(df_dados['DATA_VENDA']).day\n",
    "df_dados['DIA_SEMANA_VENDA'] = pd.DatetimeIndex(df_dados['DATA_VENDA']).day_name(locale = 'pt_BR.utf8')\n",
    "\n",
    "\n",
    "plt.rcParams[\"figure.figsize\"] = [8.00, 8.00]\n",
    "plt.rcParams[\"figure.autolayout\"] = True\n",
    "ax = df_dados.DIA_SEMANA_VENDA.value_counts().plot(kind='bar', title='Vendas Por Dia da Semana', color=['#1F77B4', '#FF7F0E'])\n",
    "\n",
    "for p in ax.patches:\n",
    "    ax.annotate(str(p.get_height()), \n",
    "                (p.get_x() + p.get_width() / 2., p.get_height()), \n",
    "                ha='center', va='bottom')\n",
    "\n",
    "plt.show()\n"
   ]
  },
  {
   "cell_type": "code",
   "execution_count": 41,
   "metadata": {},
   "outputs": [
    {
     "data": {
      "image/png": "[encoded data removed]",
      "text/plain": [
       "<Figure size 800x800 with 1 Axes>"
      ]
     },
     "metadata": {},
     "output_type": "display_data"
    }
   ],
   "source": [
    "# Análise de vendas por ano\n",
    "\n",
    "plt.rcParams[\"figure.figsize\"] = [8.00, 8.00]\n",
    "plt.rcParams[\"figure.autolayout\"] = True\n",
    "ax = df_dados.ANO_VENDA.value_counts().sort_index().plot(kind='bar', title='Vendas Por Ano', color=['#1F77B4', '#FF7F0E'])\n",
    "\n",
    "for p in ax.patches:\n",
    "    ax.annotate(str(p.get_height()), \n",
    "                (p.get_x() + p.get_width() / 2., p.get_height()), \n",
    "                ha='center', va='bottom')\n",
    "    \n",
    "plt.show()"
   ]
  },
  {
   "cell_type": "markdown",
   "metadata": {},
   "source": [
    "### 5.1 - Criação de variáveis Dummys (One Hot Encoding)\n",
    "\n",
    "<p> Quando estamos fazendo o tratamento dos dados para criação de um modelo de Machine Learning ou IA precisamos deixar todos os dados como números.\n",
    "<p> Para este processo utilizamos variaveis Dummys ou também as conhecidas como One Hot Encoding"
   ]
  },
  {
   "cell_type": "code",
   "execution_count": 43,
   "metadata": {},
   "outputs": [],
   "source": [
    "# Antes de gerar as variaveis dummys/one hot encoding vamos excluir as variaveis que não precisaremos mais.\n",
    "# Neste caso vamos excluir a variavel DATA_VENDA, pois já geramos as variaveis separadas de ANO, MES e DIA\n",
    "df_dados.drop('DATA_VENDA', axis=1, inplace=True)"
   ]
  },
  {
   "cell_type": "code",
   "execution_count": 44,
   "metadata": {},
   "outputs": [],
   "source": [
    "# Convert os campos categoricos para ONE HOT ENCODING\n",
    "\n",
    "df_dados = pd.get_dummies(df_dados)"
   ]
  },
  {
   "cell_type": "code",
   "execution_count": 45,
   "metadata": {},
   "outputs": [
    {
     "data": {
      "text/html": [
       "<div>\n",
       "<style scoped>\n",
       "    .dataframe tbody tr th:only-of-type {\n",
       "        vertical-align: middle;\n",
       "    }\n",
       "\n",
       "    .dataframe tbody tr th {\n",
       "        vertical-align: top;\n",
       "    }\n",
       "\n",
       "    .dataframe thead th {\n",
       "        text-align: right;\n",
       "    }\n",
       "</style>\n",
       "<table border=\"1\" class=\"dataframe\">\n",
       "  <thead>\n",
       "    <tr style=\"text-align: right;\">\n",
       "      <th></th>\n",
       "      <th>KM-LITRO</th>\n",
       "      <th>CILINDROS</th>\n",
       "      <th>PESO(KG)</th>\n",
       "      <th>VELOCIDADE_MAXIMA(KM/H)</th>\n",
       "      <th>CAVALOS</th>\n",
       "      <th>VALOR</th>\n",
       "      <th>ANO_VENDA</th>\n",
       "      <th>MES_VENDA</th>\n",
       "      <th>DIA_VENDA</th>\n",
       "      <th>MODELO_ASTON MARTIN</th>\n",
       "      <th>MODELO_BMW X1</th>\n",
       "      <th>MODELO_BMW X5</th>\n",
       "      <th>MODELO_COROLLA</th>\n",
       "      <th>MODELO_CORSA</th>\n",
       "      <th>MODELO_CRETA</th>\n",
       "      <th>MODELO_FERRARI</th>\n",
       "      <th>MODELO_GOL</th>\n",
       "      <th>MODELO_HB20</th>\n",
       "      <th>MODELO_HONDA FIT</th>\n",
       "      <th>MODELO_JEEP COMPASS</th>\n",
       "      <th>MODELO_JEEP RENEGADE</th>\n",
       "      <th>MODELO_LABORGUINI</th>\n",
       "      <th>MODELO_MERCEDES SL80</th>\n",
       "      <th>MODELO_MOBI</th>\n",
       "      <th>MODELO_PAJERO</th>\n",
       "      <th>MODELO_PALIO</th>\n",
       "      <th>MODELO_PARATI</th>\n",
       "      <th>MODELO_PASSAT</th>\n",
       "      <th>MODELO_SAVEIRO</th>\n",
       "      <th>MODELO_UNO</th>\n",
       "      <th>MODELO_VECTRA</th>\n",
       "      <th>TRANSMISSAO_AUTOMATICO</th>\n",
       "      <th>TRANSMISSAO_MANUAL</th>\n",
       "      <th>CATEGORIA_IMPORTADO</th>\n",
       "      <th>CATEGORIA_NACIONAL</th>\n",
       "      <th>DIA_SEMANA_VENDA_Domingo</th>\n",
       "      <th>DIA_SEMANA_VENDA_Quarta-feira</th>\n",
       "      <th>DIA_SEMANA_VENDA_Quinta-feira</th>\n",
       "      <th>DIA_SEMANA_VENDA_Segunda-feira</th>\n",
       "      <th>DIA_SEMANA_VENDA_Sexta-feira</th>\n",
       "      <th>DIA_SEMANA_VENDA_Sábado</th>\n",
       "      <th>DIA_SEMANA_VENDA_Terça-feira</th>\n",
       "    </tr>\n",
       "  </thead>\n",
       "  <tbody>\n",
       "    <tr>\n",
       "      <th>0</th>\n",
       "      <td>3.0</td>\n",
       "      <td>12</td>\n",
       "      <td>1200</td>\n",
       "      <td>360</td>\n",
       "      <td>700</td>\n",
       "      <td>900000.0</td>\n",
       "      <td>2020</td>\n",
       "      <td>1</td>\n",
       "      <td>10</td>\n",
       "      <td>False</td>\n",
       "      <td>False</td>\n",
       "      <td>False</td>\n",
       "      <td>False</td>\n",
       "      <td>False</td>\n",
       "      <td>False</td>\n",
       "      <td>False</td>\n",
       "      <td>False</td>\n",
       "      <td>False</td>\n",
       "      <td>False</td>\n",
       "      <td>False</td>\n",
       "      <td>False</td>\n",
       "      <td>True</td>\n",
       "      <td>False</td>\n",
       "      <td>False</td>\n",
       "      <td>False</td>\n",
       "      <td>False</td>\n",
       "      <td>False</td>\n",
       "      <td>False</td>\n",
       "      <td>False</td>\n",
       "      <td>False</td>\n",
       "      <td>False</td>\n",
       "      <td>True</td>\n",
       "      <td>False</td>\n",
       "      <td>True</td>\n",
       "      <td>False</td>\n",
       "      <td>False</td>\n",
       "      <td>False</td>\n",
       "      <td>False</td>\n",
       "      <td>False</td>\n",
       "      <td>True</td>\n",
       "      <td>False</td>\n",
       "      <td>False</td>\n",
       "    </tr>\n",
       "    <tr>\n",
       "      <th>1</th>\n",
       "      <td>3.0</td>\n",
       "      <td>12</td>\n",
       "      <td>1200</td>\n",
       "      <td>360</td>\n",
       "      <td>700</td>\n",
       "      <td>900000.0</td>\n",
       "      <td>2020</td>\n",
       "      <td>1</td>\n",
       "      <td>10</td>\n",
       "      <td>False</td>\n",
       "      <td>False</td>\n",
       "      <td>False</td>\n",
       "      <td>False</td>\n",
       "      <td>False</td>\n",
       "      <td>False</td>\n",
       "      <td>False</td>\n",
       "      <td>False</td>\n",
       "      <td>False</td>\n",
       "      <td>False</td>\n",
       "      <td>False</td>\n",
       "      <td>False</td>\n",
       "      <td>True</td>\n",
       "      <td>False</td>\n",
       "      <td>False</td>\n",
       "      <td>False</td>\n",
       "      <td>False</td>\n",
       "      <td>False</td>\n",
       "      <td>False</td>\n",
       "      <td>False</td>\n",
       "      <td>False</td>\n",
       "      <td>False</td>\n",
       "      <td>True</td>\n",
       "      <td>False</td>\n",
       "      <td>True</td>\n",
       "      <td>False</td>\n",
       "      <td>False</td>\n",
       "      <td>False</td>\n",
       "      <td>False</td>\n",
       "      <td>False</td>\n",
       "      <td>True</td>\n",
       "      <td>False</td>\n",
       "      <td>False</td>\n",
       "    </tr>\n",
       "    <tr>\n",
       "      <th>2</th>\n",
       "      <td>3.0</td>\n",
       "      <td>12</td>\n",
       "      <td>1200</td>\n",
       "      <td>360</td>\n",
       "      <td>700</td>\n",
       "      <td>900000.0</td>\n",
       "      <td>2020</td>\n",
       "      <td>1</td>\n",
       "      <td>10</td>\n",
       "      <td>False</td>\n",
       "      <td>False</td>\n",
       "      <td>False</td>\n",
       "      <td>False</td>\n",
       "      <td>False</td>\n",
       "      <td>False</td>\n",
       "      <td>False</td>\n",
       "      <td>False</td>\n",
       "      <td>False</td>\n",
       "      <td>False</td>\n",
       "      <td>False</td>\n",
       "      <td>False</td>\n",
       "      <td>True</td>\n",
       "      <td>False</td>\n",
       "      <td>False</td>\n",
       "      <td>False</td>\n",
       "      <td>False</td>\n",
       "      <td>False</td>\n",
       "      <td>False</td>\n",
       "      <td>False</td>\n",
       "      <td>False</td>\n",
       "      <td>False</td>\n",
       "      <td>True</td>\n",
       "      <td>False</td>\n",
       "      <td>True</td>\n",
       "      <td>False</td>\n",
       "      <td>False</td>\n",
       "      <td>False</td>\n",
       "      <td>False</td>\n",
       "      <td>False</td>\n",
       "      <td>True</td>\n",
       "      <td>False</td>\n",
       "      <td>False</td>\n",
       "    </tr>\n",
       "    <tr>\n",
       "      <th>3</th>\n",
       "      <td>3.0</td>\n",
       "      <td>12</td>\n",
       "      <td>1400</td>\n",
       "      <td>360</td>\n",
       "      <td>640</td>\n",
       "      <td>900000.0</td>\n",
       "      <td>2020</td>\n",
       "      <td>1</td>\n",
       "      <td>10</td>\n",
       "      <td>False</td>\n",
       "      <td>False</td>\n",
       "      <td>False</td>\n",
       "      <td>False</td>\n",
       "      <td>False</td>\n",
       "      <td>False</td>\n",
       "      <td>True</td>\n",
       "      <td>False</td>\n",
       "      <td>False</td>\n",
       "      <td>False</td>\n",
       "      <td>False</td>\n",
       "      <td>False</td>\n",
       "      <td>False</td>\n",
       "      <td>False</td>\n",
       "      <td>False</td>\n",
       "      <td>False</td>\n",
       "      <td>False</td>\n",
       "      <td>False</td>\n",
       "      <td>False</td>\n",
       "      <td>False</td>\n",
       "      <td>False</td>\n",
       "      <td>False</td>\n",
       "      <td>True</td>\n",
       "      <td>False</td>\n",
       "      <td>True</td>\n",
       "      <td>False</td>\n",
       "      <td>False</td>\n",
       "      <td>False</td>\n",
       "      <td>False</td>\n",
       "      <td>False</td>\n",
       "      <td>True</td>\n",
       "      <td>False</td>\n",
       "      <td>False</td>\n",
       "    </tr>\n",
       "    <tr>\n",
       "      <th>4</th>\n",
       "      <td>3.5</td>\n",
       "      <td>10</td>\n",
       "      <td>1600</td>\n",
       "      <td>360</td>\n",
       "      <td>620</td>\n",
       "      <td>900000.0</td>\n",
       "      <td>2020</td>\n",
       "      <td>1</td>\n",
       "      <td>10</td>\n",
       "      <td>True</td>\n",
       "      <td>False</td>\n",
       "      <td>False</td>\n",
       "      <td>False</td>\n",
       "      <td>False</td>\n",
       "      <td>False</td>\n",
       "      <td>False</td>\n",
       "      <td>False</td>\n",
       "      <td>False</td>\n",
       "      <td>False</td>\n",
       "      <td>False</td>\n",
       "      <td>False</td>\n",
       "      <td>False</td>\n",
       "      <td>False</td>\n",
       "      <td>False</td>\n",
       "      <td>False</td>\n",
       "      <td>False</td>\n",
       "      <td>False</td>\n",
       "      <td>False</td>\n",
       "      <td>False</td>\n",
       "      <td>False</td>\n",
       "      <td>False</td>\n",
       "      <td>True</td>\n",
       "      <td>False</td>\n",
       "      <td>True</td>\n",
       "      <td>False</td>\n",
       "      <td>False</td>\n",
       "      <td>False</td>\n",
       "      <td>False</td>\n",
       "      <td>False</td>\n",
       "      <td>True</td>\n",
       "      <td>False</td>\n",
       "      <td>False</td>\n",
       "    </tr>\n",
       "  </tbody>\n",
       "</table>\n",
       "</div>"
      ],
      "text/plain": [
       "   KM-LITRO  CILINDROS  PESO(KG)  VELOCIDADE_MAXIMA(KM/H)  CAVALOS     VALOR  \\\n",
       "0       3.0         12      1200                      360      700  900000.0   \n",
       "1       3.0         12      1200                      360      700  900000.0   \n",
       "2       3.0         12      1200                      360      700  900000.0   \n",
       "3       3.0         12      1400                      360      640  900000.0   \n",
       "4       3.5         10      1600                      360      620  900000.0   \n",
       "\n",
       "   ANO_VENDA  MES_VENDA  DIA_VENDA  MODELO_ASTON MARTIN  MODELO_BMW X1  \\\n",
       "0       2020          1         10                False          False   \n",
       "1       2020          1         10                False          False   \n",
       "2       2020          1         10                False          False   \n",
       "3       2020          1         10                False          False   \n",
       "4       2020          1         10                 True          False   \n",
       "\n",
       "   MODELO_BMW X5  MODELO_COROLLA  MODELO_CORSA  MODELO_CRETA  MODELO_FERRARI  \\\n",
       "0          False           False         False         False           False   \n",
       "1          False           False         False         False           False   \n",
       "2          False           False         False         False           False   \n",
       "3          False           False         False         False            True   \n",
       "4          False           False         False         False           False   \n",
       "\n",
       "   MODELO_GOL  MODELO_HB20  MODELO_HONDA FIT  MODELO_JEEP COMPASS  \\\n",
       "0       False        False             False                False   \n",
       "1       False        False             False                False   \n",
       "2       False        False             False                False   \n",
       "3       False        False             False                False   \n",
       "4       False        False             False                False   \n",
       "\n",
       "   MODELO_JEEP RENEGADE  MODELO_LABORGUINI  MODELO_MERCEDES SL80  MODELO_MOBI  \\\n",
       "0                 False               True                 False        False   \n",
       "1                 False               True                 False        False   \n",
       "2                 False               True                 False        False   \n",
       "3                 False              False                 False        False   \n",
       "4                 False              False                 False        False   \n",
       "\n",
       "   MODELO_PAJERO  MODELO_PALIO  MODELO_PARATI  MODELO_PASSAT  MODELO_SAVEIRO  \\\n",
       "0          False         False          False          False           False   \n",
       "1          False         False          False          False           False   \n",
       "2          False         False          False          False           False   \n",
       "3          False         False          False          False           False   \n",
       "4          False         False          False          False           False   \n",
       "\n",
       "   MODELO_UNO  MODELO_VECTRA  TRANSMISSAO_AUTOMATICO  TRANSMISSAO_MANUAL  \\\n",
       "0       False          False                    True               False   \n",
       "1       False          False                    True               False   \n",
       "2       False          False                    True               False   \n",
       "3       False          False                    True               False   \n",
       "4       False          False                    True               False   \n",
       "\n",
       "   CATEGORIA_IMPORTADO  CATEGORIA_NACIONAL  DIA_SEMANA_VENDA_Domingo  \\\n",
       "0                 True               False                     False   \n",
       "1                 True               False                     False   \n",
       "2                 True               False                     False   \n",
       "3                 True               False                     False   \n",
       "4                 True               False                     False   \n",
       "\n",
       "   DIA_SEMANA_VENDA_Quarta-feira  DIA_SEMANA_VENDA_Quinta-feira  \\\n",
       "0                          False                          False   \n",
       "1                          False                          False   \n",
       "2                          False                          False   \n",
       "3                          False                          False   \n",
       "4                          False                          False   \n",
       "\n",
       "   DIA_SEMANA_VENDA_Segunda-feira  DIA_SEMANA_VENDA_Sexta-feira  \\\n",
       "0                           False                          True   \n",
       "1                           False                          True   \n",
       "2                           False                          True   \n",
       "3                           False                          True   \n",
       "4                           False                          True   \n",
       "\n",
       "   DIA_SEMANA_VENDA_Sábado  DIA_SEMANA_VENDA_Terça-feira  \n",
       "0                    False                         False  \n",
       "1                    False                         False  \n",
       "2                    False                         False  \n",
       "3                    False                         False  \n",
       "4                    False                         False  "
      ]
     },
     "execution_count": 45,
     "metadata": {},
     "output_type": "execute_result"
    }
   ],
   "source": [
    "# Visualização do DataFrame após as transformações de dados\n",
    "df_dados.head()"
   ]
  },
  {
   "cell_type": "markdown",
   "metadata": {},
   "source": [
    "## 6- Visualização consolidada das características do DataFrame\n",
    "\n",
    "Com o objetivo de verificar de forma unificada as características de todas as variáveis, utilizaremos a biblioteca sweetviz"
   ]
  },
  {
   "cell_type": "code",
   "execution_count": 46,
   "metadata": {},
   "outputs": [
    {
     "name": "stderr",
     "output_type": "stream",
     "text": [
      "Done! Use 'show' commands to display/save.   |██████████| [100%]   00:01 -> (00:00 left)\n"
     ]
    },
    {
     "name": "stdout",
     "output_type": "stream",
     "text": [
      "Report relatorio_variaveis.html was generated! NOTEBOOK/COLAB USERS: the web browser MAY not pop up, regardless, the report IS saved in your notebook/colab files.\n"
     ]
    }
   ],
   "source": [
    "import sweetviz as sv\n",
    "\n",
    "my_report = sv.analyze(df_dados)\n",
    "my_report.show_html(filepath = \"relatorio_variaveis.html\" ) # Se não for informado o nome do arquivo, será gerado automaticamente com o nome \"SWEETVIZ_REPORT.html\""
   ]
  },
  {
   "cell_type": "markdown",
   "metadata": {},
   "source": [
    "## 7- Exportação do DataFrame (Opcional)"
   ]
  },
  {
   "cell_type": "code",
   "execution_count": 47,
   "metadata": {},
   "outputs": [],
   "source": [
    "# Exportar para Excel\n",
    "df_dados.to_excel('dados_tratados.xlsx', index=False)"
   ]
  },
  {
   "cell_type": "code",
   "execution_count": 48,
   "metadata": {},
   "outputs": [],
   "source": [
    "# Exportar para CSV\n",
    "df_dados.to_csv('dados_tratados.csv', index=False, encoding='utf-8')"
   ]
  }
 ],
 "metadata": {
  "kernelspec": {
   "display_name": "Python 3",
   "language": "python",
   "name": "python3"
  },
  "language_info": {
   "codemirror_mode": {
    "name": "ipython",
    "version": 3
   },
   "file_extension": ".py",
   "mimetype": "text/x-python",
   "name": "python",
   "nbconvert_exporter": "python",
   "pygments_lexer": "ipython3",
   "version": "3.12.1"
  }
 },
 "nbformat": 4,
 "nbformat_minor": 2
}
